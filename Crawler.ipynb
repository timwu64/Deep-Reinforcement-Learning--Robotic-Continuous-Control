{
 "cells": [
  {
   "cell_type": "markdown",
   "metadata": {},
   "source": [
    "# Crawler Continuous Control\n",
    "\n",
    "---\n",
    "\n",
    "Congratulations for completing the second project of the [Deep Reinforcement Learning Nanodegree](https://www.udacity.com/course/deep-reinforcement-learning-nanodegree--nd893) program!  In this notebook, you will learn how to control an agent in a more challenging environment, where the goal is to train a creature with four arms to walk forward.  **Note that this exercise is optional!**\n",
    "\n",
    "### 1. Start the Environment\n",
    "\n",
    "We begin by importing the necessary packages.  If the code cell below returns an error, please revisit the project instructions to double-check that you have installed [Unity ML-Agents](https://github.com/Unity-Technologies/ml-agents/blob/master/docs/Installation.md) and [NumPy](http://www.numpy.org/)."
   ]
  },
  {
   "cell_type": "code",
   "execution_count": 1,
   "metadata": {},
   "outputs": [
    {
     "name": "stdout",
     "output_type": "stream",
     "text": [
      "\u001b[31mtensorflow 1.7.1 has requirement numpy>=1.13.3, but you'll have numpy 1.12.1 which is incompatible.\u001b[0m\r\n",
      "\u001b[31mipython 6.5.0 has requirement prompt-toolkit<2.0.0,>=1.0.15, but you'll have prompt-toolkit 3.0.5 which is incompatible.\u001b[0m\r\n"
     ]
    }
   ],
   "source": [
    "!pip -q install ./python"
   ]
  },
  {
   "cell_type": "code",
   "execution_count": 2,
   "metadata": {},
   "outputs": [],
   "source": [
    "from unityagents import UnityEnvironment\n",
    "import numpy as np\n",
    "import torch"
   ]
  },
  {
   "cell_type": "markdown",
   "metadata": {},
   "source": [
    "Next, we will start the environment!  **_Before running the code cell below_**, change the `file_name` parameter to match the location of the Unity environment that you downloaded.\n",
    "\n",
    "- **Mac**: `\"path/to/Crawler.app\"`\n",
    "- **Windows** (x86): `\"path/to/Crawler_Windows_x86/Crawler.exe\"`\n",
    "- **Windows** (x86_64): `\"path/to/Crawler_Windows_x86_64/Crawler.exe\"`\n",
    "- **Linux** (x86): `\"path/to/Crawler_Linux/Crawler.x86\"`\n",
    "- **Linux** (x86_64): `\"path/to/Crawler_Linux/Crawler.x86_64\"`\n",
    "- **Linux** (x86, headless): `\"path/to/Crawler_Linux_NoVis/Crawler.x86\"`\n",
    "- **Linux** (x86_64, headless): `\"path/to/Crawler_Linux_NoVis/Crawler.x86_64\"`\n",
    "\n",
    "For instance, if you are using a Mac, then you downloaded `Crawler.app`.  If this file is in the same folder as the notebook, then the line below should appear as follows:\n",
    "```\n",
    "env = UnityEnvironment(file_name=\"Crawler.app\")\n",
    "```"
   ]
  },
  {
   "cell_type": "code",
   "execution_count": 3,
   "metadata": {},
   "outputs": [
    {
     "name": "stderr",
     "output_type": "stream",
     "text": [
      "INFO:unityagents:\n",
      "'Academy' started successfully!\n",
      "Unity Academy name: Academy\n",
      "        Number of Brains: 1\n",
      "        Number of External Brains : 1\n",
      "        Lesson number : 0\n",
      "        Reset Parameters :\n",
      "\t\t\n",
      "Unity brain name: CrawlerBrain\n",
      "        Number of Visual Observations (per agent): 0\n",
      "        Vector Observation space type: continuous\n",
      "        Vector Observation space size (per agent): 129\n",
      "        Number of stacked Vector Observation: 1\n",
      "        Vector Action space type: continuous\n",
      "        Vector Action space size (per agent): 20\n",
      "        Vector Action descriptions: , , , , , , , , , , , , , , , , , , , \n"
     ]
    }
   ],
   "source": [
    "# select this option to load the environment\n",
    "env = UnityEnvironment(file_name='./Crawler_Linux/Crawler.x86_64')"
   ]
  },
  {
   "cell_type": "markdown",
   "metadata": {},
   "source": [
    "Environments contain **_brains_** which are responsible for deciding the actions of their associated agents. Here we check for the first brain available, and set it as the default brain we will be controlling from Python."
   ]
  },
  {
   "cell_type": "code",
   "execution_count": 4,
   "metadata": {},
   "outputs": [],
   "source": [
    "# get the default brain\n",
    "brain_name = env.brain_names[0]\n",
    "brain = env.brains[brain_name]"
   ]
  },
  {
   "cell_type": "markdown",
   "metadata": {},
   "source": [
    "### 2. Examine the State and Action Spaces\n",
    "\n",
    "Run the code cell below to print some information about the environment."
   ]
  },
  {
   "cell_type": "code",
   "execution_count": 5,
   "metadata": {},
   "outputs": [
    {
     "name": "stdout",
     "output_type": "stream",
     "text": [
      "Number of agents: 12\n",
      "Size of each action: 20\n",
      "There are 12 agents. Each observes a state with length: 129\n",
      "The state for the first agent looks like: [  0.00000000e+00   0.00000000e+00   0.00000000e+00   2.25000000e+00\n",
      "   1.00000000e+00   0.00000000e+00   1.78813934e-07   0.00000000e+00\n",
      "   1.00000000e+00   0.00000000e+00   0.00000000e+00   0.00000000e+00\n",
      "   0.00000000e+00   0.00000000e+00   0.00000000e+00   0.00000000e+00\n",
      "   0.00000000e+00   0.00000000e+00   0.00000000e+00   0.00000000e+00\n",
      "   0.00000000e+00   0.00000000e+00   0.00000000e+00   0.00000000e+00\n",
      "   6.06093168e-01  -1.42857209e-01  -6.06078804e-01   0.00000000e+00\n",
      "   0.00000000e+00   0.00000000e+00   0.00000000e+00   0.00000000e+00\n",
      "   0.00000000e+00   0.00000000e+00   0.00000000e+00   0.00000000e+00\n",
      "   0.00000000e+00   0.00000000e+00   1.33339906e+00  -1.42857209e-01\n",
      "  -1.33341408e+00   0.00000000e+00   0.00000000e+00   0.00000000e+00\n",
      "   0.00000000e+00   0.00000000e+00   0.00000000e+00   0.00000000e+00\n",
      "   0.00000000e+00   0.00000000e+00   0.00000000e+00   0.00000000e+00\n",
      "  -6.06093347e-01  -1.42857209e-01  -6.06078625e-01   0.00000000e+00\n",
      "   0.00000000e+00   0.00000000e+00   0.00000000e+00   0.00000000e+00\n",
      "   0.00000000e+00   0.00000000e+00   0.00000000e+00   0.00000000e+00\n",
      "   0.00000000e+00   0.00000000e+00  -1.33339953e+00  -1.42857209e-01\n",
      "  -1.33341372e+00   0.00000000e+00   0.00000000e+00   0.00000000e+00\n",
      "   0.00000000e+00   0.00000000e+00   0.00000000e+00   0.00000000e+00\n",
      "   0.00000000e+00   0.00000000e+00   0.00000000e+00   0.00000000e+00\n",
      "  -6.06093168e-01  -1.42857209e-01   6.06078804e-01   0.00000000e+00\n",
      "   0.00000000e+00   0.00000000e+00   0.00000000e+00   0.00000000e+00\n",
      "   0.00000000e+00   0.00000000e+00   0.00000000e+00   0.00000000e+00\n",
      "   0.00000000e+00   0.00000000e+00  -1.33339906e+00  -1.42857209e-01\n",
      "   1.33341408e+00   0.00000000e+00   0.00000000e+00   0.00000000e+00\n",
      "   0.00000000e+00   0.00000000e+00   0.00000000e+00   0.00000000e+00\n",
      "   0.00000000e+00   0.00000000e+00   0.00000000e+00   0.00000000e+00\n",
      "   6.06093347e-01  -1.42857209e-01   6.06078625e-01   0.00000000e+00\n",
      "   0.00000000e+00   0.00000000e+00   0.00000000e+00   0.00000000e+00\n",
      "   0.00000000e+00   0.00000000e+00   0.00000000e+00   0.00000000e+00\n",
      "   0.00000000e+00   0.00000000e+00   1.33339953e+00  -1.42857209e-01\n",
      "   1.33341372e+00   0.00000000e+00   0.00000000e+00   0.00000000e+00\n",
      "   0.00000000e+00]\n"
     ]
    }
   ],
   "source": [
    "# reset the environment\n",
    "env_info = env.reset(train_mode=True)[brain_name]\n",
    "\n",
    "# number of agents\n",
    "num_agents = len(env_info.agents)\n",
    "print('Number of agents:', num_agents)\n",
    "\n",
    "# size of each action\n",
    "action_size = brain.vector_action_space_size\n",
    "print('Size of each action:', action_size)\n",
    "\n",
    "# examine the state space \n",
    "states = env_info.vector_observations\n",
    "state_size = states.shape[1]\n",
    "print('There are {} agents. Each observes a state with length: {}'.format(states.shape[0], state_size))\n",
    "print('The state for the first agent looks like:', states[0])"
   ]
  },
  {
   "cell_type": "markdown",
   "metadata": {},
   "source": [
    "### 3. Take Random Actions in the Environment\n",
    "\n",
    "In the next code cell, you will learn how to use the Python API to control the agent and receive feedback from the environment.\n",
    "\n",
    "Once this cell is executed, you will watch the agent's performance, if it selects an action at random with each time step.  A window should pop up that allows you to observe the agent, as it moves through the environment.  \n",
    "\n",
    "Of course, as part of the project, you'll have to change the code so that the agent is able to use its experience to gradually choose better actions when interacting with the environment!"
   ]
  },
  {
   "cell_type": "code",
   "execution_count": 6,
   "metadata": {},
   "outputs": [
    {
     "name": "stdout",
     "output_type": "stream",
     "text": [
      "Total score (averaged over agents) this episode: 0.29627589803809923\n"
     ]
    }
   ],
   "source": [
    "env_info = env.reset(train_mode=False)[brain_name]     # reset the environment    \n",
    "states = env_info.vector_observations                  # get the current state (for each agent)\n",
    "scores = np.zeros(num_agents)                          # initialize the score (for each agent)\n",
    "while True:\n",
    "    actions = np.random.randn(num_agents, action_size) # select an action (for each agent)\n",
    "    actions = np.clip(actions, -1, 1)                  # all actions between -1 and 1\n",
    "    env_info = env.step(actions)[brain_name]           # send all actions to tne environment\n",
    "    next_states = env_info.vector_observations         # get next state (for each agent)\n",
    "    rewards = env_info.rewards                         # get reward (for each agent)\n",
    "    dones = env_info.local_done                        # see if episode finished\n",
    "    scores += env_info.rewards                         # update the score (for each agent)\n",
    "    states = next_states                               # roll over states to next time step\n",
    "    if np.any(dones):                                  # exit loop if episode finished\n",
    "        break\n",
    "print('Total score (averaged over agents) this episode: {}'.format(np.mean(scores)))"
   ]
  },
  {
   "cell_type": "markdown",
   "metadata": {},
   "source": [
    "### 4. It's Your Turn!\n",
    "\n",
    "Now it's your turn to train your own agent to solve the environment!  When training the environment, set `train_mode=True`, so that the line for resetting the environment looks like the following:\n",
    "```python\n",
    "env_info = env.reset(train_mode=True)[brain_name]\n",
    "```"
   ]
  },
  {
   "cell_type": "code",
   "execution_count": 7,
   "metadata": {},
   "outputs": [
    {
     "name": "stdout",
     "output_type": "stream",
     "text": [
      "/home/workspace/Crawler_ckpt_path/\n"
     ]
    }
   ],
   "source": [
    "import os\n",
    "current_path = os.getcwd()\n",
    "ckpt_path_folder = \"Crawler_ckpt_path\"\n",
    "ckpt_path_loc = (current_path+\"/\"+ckpt_path_folder+\"/\")\n",
    "print(ckpt_path_loc)"
   ]
  },
  {
   "cell_type": "code",
   "execution_count": 8,
   "metadata": {},
   "outputs": [],
   "source": [
    "import shutil\n",
    "if os.path.exists(ckpt_path_loc):\n",
    "    #shutil.rmtree(ckpt_path_loc, ignore_errors=True)\n",
    "    files = os.listdir(ckpt_path_loc)\n",
    "    files\n",
    "else:\n",
    "    print(\"The local file directory does not exist\")"
   ]
  },
  {
   "cell_type": "code",
   "execution_count": 9,
   "metadata": {},
   "outputs": [],
   "source": [
    "if not os.path.exists(ckpt_path_loc):\n",
    "    os.makedirs(ckpt_path_loc)"
   ]
  },
  {
   "cell_type": "code",
   "execution_count": 10,
   "metadata": {},
   "outputs": [
    {
     "data": {
      "text/plain": [
       "['td_ddpg_agent.py',\n",
       " 'Continuous_Control.ipynb',\n",
       " '.ipynb_checkpoints',\n",
       " 'python',\n",
       " 'Crawler_Linux',\n",
       " 'Download_files.ipynb',\n",
       " 'workspace_utils.py',\n",
       " 'Crawler_Linux.zip',\n",
       " 'Crawler_ckpt_path',\n",
       " '__pycache__',\n",
       " 'Crawler.ipynb',\n",
       " 'Reacher_ckpt_path',\n",
       " 'ddpg_agent.py',\n",
       " 'td3_model.py',\n",
       " 'model.py',\n",
       " 'unity-environment.log']"
      ]
     },
     "execution_count": 10,
     "metadata": {},
     "output_type": "execute_result"
    }
   ],
   "source": [
    "files = os.listdir(current_path)\n",
    "files"
   ]
  },
  {
   "cell_type": "code",
   "execution_count": 11,
   "metadata": {},
   "outputs": [
    {
     "name": "stdout",
     "output_type": "stream",
     "text": [
      "Number of agents: 12\n",
      "Size of each action: 20\n"
     ]
    }
   ],
   "source": [
    "# number of agents\n",
    "num_agents = len(env_info.agents)\n",
    "print('Number of agents:', num_agents)\n",
    "\n",
    "# size of each action\n",
    "action_size = brain.vector_action_space_size\n",
    "print('Size of each action:', action_size)\n",
    "\n",
    "# examine the state space \n",
    "states = env_info.vector_observations\n",
    "state_size = states.shape[1]"
   ]
  },
  {
   "cell_type": "code",
   "execution_count": 22,
   "metadata": {},
   "outputs": [],
   "source": [
    "def td_ddpg(n_episodes=1000, max_t=1000,\n",
    "        actor_ckpt_path = 'Crawler_ckpt_path/checkpoint_actor.pth', \n",
    "        critic_ckpt_path = 'Crawler_ckpt_path/checkpoint_critic.pth'):\n",
    "    \"\"\"Deep Deterministic Policy Gradient (DDPG)\n",
    "    \n",
    "    Params\n",
    "    ======\n",
    "        n_episodes (int): maximum number of training episodes\n",
    "        max_t (int): maximum number of timesteps per episode\n",
    "    \"\"\"\n",
    "    mean_scores = []\n",
    "    moving_avg_scores = []             # list containing the averaged over all agents for 100 consecutive episodes\n",
    "    \n",
    "    scores_window = deque(maxlen=100)  # last 100 scores\n",
    "    start_time = time.time()\n",
    "    \n",
    "    for i_episode in range(1, n_episodes+1):\n",
    "        env_info = env.reset(train_mode=True)[brain_name]        # reset the environment\n",
    "        states = env_info.vector_observations                    # get the current state\n",
    "        scores = np.zeros(num_agents)                            # initialize score for each agent\n",
    "        agent.reset()\n",
    "        final_score = 0\n",
    "        timestep = time.time()\n",
    "        \n",
    "        for t in range(max_t):\n",
    "            actions = agent.act(states, add_noise=True)          # select an action\n",
    "            env_info = env.step(actions)[brain_name]             # send all actions to tne environment\n",
    "            next_states = env_info.vector_observations           # get next state (for each agent)\n",
    "            rewards = env_info.rewards                           # get reward (for each agent)\n",
    "            dones = env_info.local_done                          # see if episode finished\n",
    "            \n",
    "            agent.step(states, actions, rewards, next_states, dones, t)\n",
    "            states = next_states                                 # roll over the state to next time step\n",
    "            scores += rewards                                    # update the score\n",
    "            if np.any(dones):                                    # exit loop if episode finished\n",
    "                break \n",
    "        \n",
    "        duration = time.time() - timestep                        # calculate the elapsed time\n",
    "        \n",
    "        avg_scores_all_agent = np.mean(scores)\n",
    "        scores_window.append(avg_scores_all_agent)               # save average score for all agnets in the episode to the time window\n",
    "        final_score = np.mean(scores_window)\n",
    "        mean_scores.append(avg_scores_all_agent)\n",
    "        moving_avg_scores.append(final_score) \n",
    "        \n",
    "        #print('\\rEpisode {} ({}s)\\tMin: {:.2f}\\tMax: {:.2f}\\tMean: {:.2f}'.format(i_episode, round(duration), np.min(scores), np.max(scores), np.mean(scores))) \n",
    "        \n",
    "        if i_episode % 100 == 0:\n",
    "            print('\\rEpisode {} ({}min)\\tMoving Average Score (over time window): {:.2f}'.format(i_episode, round((time.time() - start_time)/60), final_score))\n",
    "        \n",
    "        if final_score>=400.0 and i_episode >= 100:\n",
    "            print('\\nEnvironment solved in {:d} episodes!\\tAverage Score: {:.2f}'.format(i_episode, final_score))\n",
    "\n",
    "            torch.save(agent.actor_local.state_dict(), actor_ckpt_path)\n",
    "            torch.save(agent.critic_local.state_dict(), critic_ckpt_path)\n",
    "            break\n",
    "    return mean_scores, moving_avg_scores"
   ]
  },
  {
   "cell_type": "code",
   "execution_count": 29,
   "metadata": {},
   "outputs": [],
   "source": [
    "import time\n",
    "start = time.time()\n",
    "# Set parameters for training\n",
    "seed = 123                  # random seed number\n",
    "n_episodes_max = 10000       # number of training episodes\n",
    "max_t = 1000                # number of timesteps per episode\n",
    "\n",
    "actor_fc1_units = 400    # actor network hidden layer #1 number of unit \n",
    "actor_fc2_units = 300    # actor network hidden layer #2 number of unit \n",
    "critic_fcs1_units = 400  # critic network hidden layer #1 number of unit \n",
    "critic_fc2_units = 300   # critic network hidden layer #2 number of unit \n",
    "\n",
    "BUFFER_SIZE = int(1e6)        # replay buffer size\n",
    "BATCH_SIZE = 128              # minibatch size\n",
    "GAMMA = 0.99                  # discount factor\n",
    "TAU = 1e-3                    # for soft update of target parameters\n",
    "LR_ACTOR = 2e-4               # learning rate of the actor \n",
    "LR_CRITIC = 2e-4              # learning rate of the critic\n",
    "WEIGHT_DECAY = 0.00           # L2 weight decay\n",
    "OU_MU = 0.0                   # OUNoise mu\n",
    "OU_THETA = 0.15               # OUNoise theta\n",
    "OU_SIGMA = 0.1                # OUNoise sigma\n",
    "UPDATE_EVERY_T_STEPS = 20      # timesteps between updates\n",
    "NUM_OF_UPDATES = 10            # num of update passes when updating\n",
    "\n",
    "actor_ckpt_path = 'Cralwer_ckpt_path/checkpoint_actor.pth'\n",
    "critic_ckpt_path = 'Cralwer_ckpt_path/checkpoint_critic.pth'"
   ]
  },
  {
   "cell_type": "code",
   "execution_count": 30,
   "metadata": {},
   "outputs": [
    {
     "name": "stdout",
     "output_type": "stream",
     "text": [
      "[AGENT INFO] DDPG constructor initialized parameters:\n",
      " num_agents=12 \n",
      " state_size=129 \n",
      " action_size=20 \n",
      " random_seed=123 \n",
      " actor_fc1_units=400 \n",
      " actor_fc2_units=300 \n",
      " critic_fcs1_units=400 \n",
      " critic_fc2_units=300 \n",
      " buffer_size=1000000 \n",
      " batch_size=128 \n",
      " gamma=0.99 \n",
      " tau=0.001 \n",
      " lr_actor=0.0002 \n",
      " lr_critic=0.0002 \n",
      " weight_decay=0.0 \n",
      " ou_mu=0.0\n",
      " ou_theta=0.15\n",
      " ou_sigma=0.1\n",
      " update_every_t_steps=20\n",
      " num_of_updates=10\n",
      "\n",
      "[MODEL INFO] Actor initialized with parameters : state_size=129 action_size=20 seed=123 fc1_units=400 fc2_units=300\n",
      "[MODEL INFO] Actor initialized with parameters : state_size=129 action_size=20 seed=123 fc1_units=400 fc2_units=300\n",
      "[MODEL INFO] CRITIC initialized with parameters : state_size=129 action_size=20 seed=123 fcs1_units=400 fc2_units=300\n",
      "[MODEL INFO] CRITIC initialized with parameters : state_size=129 action_size=20 seed=123 fcs1_units=400 fc2_units=300\n"
     ]
    }
   ],
   "source": [
    "from td_ddpg_agent import Agent\n",
    "from collections import namedtuple, deque\n",
    "# Create the Agent\n",
    "agent = Agent(num_agents, state_size, action_size, random_seed=seed, \n",
    "              actor_fc1_units=actor_fc1_units, actor_fc2_units=actor_fc2_units, \n",
    "              critic_fcs1_units=critic_fcs1_units, critic_fc2_units=critic_fc2_units, \n",
    "              buffer_size=BUFFER_SIZE, batch_size=BATCH_SIZE, \n",
    "              gamma=GAMMA, tau=TAU, \n",
    "              lr_actor=LR_ACTOR, lr_critic=LR_CRITIC, weight_decay=WEIGHT_DECAY,\n",
    "              ou_mu=OU_MU, ou_theta=OU_THETA, ou_sigma=OU_SIGMA,\n",
    "              update_every_t_steps=UPDATE_EVERY_T_STEPS, num_of_updates=NUM_OF_UPDATES)"
   ]
  },
  {
   "cell_type": "code",
   "execution_count": null,
   "metadata": {},
   "outputs": [],
   "source": [
    "# Train the Agent\n",
    "from workspace_utils import active_session\n",
    "with active_session():\n",
    "    scores, avgs = td_ddpg(n_episodes=n_episodes_max, \n",
    "                        max_t= max_t,\n",
    "                        actor_ckpt_path=actor_ckpt_path,\n",
    "                        critic_ckpt_path=critic_ckpt_path)"
   ]
  },
  {
   "cell_type": "code",
   "execution_count": null,
   "metadata": {},
   "outputs": [],
   "source": [
    "end = time.time()\n",
    "elapsed = (end - start) / 60.0 # in minutes\n",
    "print(\"\\nElapsed Time: {0:3.2f} mins.\".format(elapsed))"
   ]
  },
  {
   "cell_type": "code",
   "execution_count": null,
   "metadata": {},
   "outputs": [],
   "source": [
    "import matplotlib.pyplot as plt\n",
    "%matplotlib inline\n",
    "# plot the scores\n",
    "fig = plt.figure()\n",
    "ax = fig.add_subplot(111)\n",
    "plt.plot(np.arange(len(scores)), scores, label='scores')\n",
    "plt.plot(np.arange(len(scores)), avgs, c='r', label='Average Score')\n",
    "plt.ylabel('Score')\n",
    "plt.xlabel('Episode #')\n",
    "plt.legend();\n",
    "plt.show()"
   ]
  },
  {
   "cell_type": "markdown",
   "metadata": {},
   "source": [
    "When finished, you can close the environment."
   ]
  },
  {
   "cell_type": "raw",
   "metadata": {},
   "source": [
    "env.close()"
   ]
  }
 ],
 "metadata": {
  "kernelspec": {
   "display_name": "Python 3",
   "language": "python",
   "name": "python3"
  },
  "language_info": {
   "codemirror_mode": {
    "name": "ipython",
    "version": 3
   },
   "file_extension": ".py",
   "mimetype": "text/x-python",
   "name": "python",
   "nbconvert_exporter": "python",
   "pygments_lexer": "ipython3",
   "version": "3.6.3"
  }
 },
 "nbformat": 4,
 "nbformat_minor": 2
}
