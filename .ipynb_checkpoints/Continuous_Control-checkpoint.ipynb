{
 "cells": [
  {
   "cell_type": "markdown",
   "metadata": {},
   "source": [
    "# Continuous Control\n",
    "\n",
    "---\n",
    "\n",
    "You are welcome to use this coding environment to train your agent for the project.  Follow the instructions below to get started!\n",
    "\n",
    "### 1. Start the Environment\n",
    "\n",
    "Run the next code cell to install a few packages.  This line will take a few minutes to run!"
   ]
  },
  {
   "cell_type": "code",
   "execution_count": 1,
   "metadata": {},
   "outputs": [
    {
     "name": "stdout",
     "output_type": "stream",
     "text": [
      "\u001b[31mtensorflow 1.7.1 has requirement numpy>=1.13.3, but you'll have numpy 1.12.1 which is incompatible.\u001b[0m\r\n",
      "\u001b[31mipython 6.5.0 has requirement prompt-toolkit<2.0.0,>=1.0.15, but you'll have prompt-toolkit 3.0.5 which is incompatible.\u001b[0m\r\n"
     ]
    }
   ],
   "source": [
    "!pip -q install ./python"
   ]
  },
  {
   "cell_type": "markdown",
   "metadata": {},
   "source": [
    "The environments corresponding to both versions of the environment are already saved in the Workspace and can be accessed at the file paths provided below.  \n",
    "\n",
    "Please select one of the two options below for loading the environment."
   ]
  },
  {
   "cell_type": "code",
   "execution_count": 2,
   "metadata": {},
   "outputs": [
    {
     "name": "stderr",
     "output_type": "stream",
     "text": [
      "INFO:unityagents:\n",
      "'Academy' started successfully!\n",
      "Unity Academy name: Academy\n",
      "        Number of Brains: 1\n",
      "        Number of External Brains : 1\n",
      "        Lesson number : 0\n",
      "        Reset Parameters :\n",
      "\t\tgoal_speed -> 1.0\n",
      "\t\tgoal_size -> 5.0\n",
      "Unity brain name: ReacherBrain\n",
      "        Number of Visual Observations (per agent): 0\n",
      "        Vector Observation space type: continuous\n",
      "        Vector Observation space size (per agent): 33\n",
      "        Number of stacked Vector Observation: 1\n",
      "        Vector Action space type: continuous\n",
      "        Vector Action space size (per agent): 4\n",
      "        Vector Action descriptions: , , , \n"
     ]
    }
   ],
   "source": [
    "from unityagents import UnityEnvironment\n",
    "import numpy as np\n",
    "import torch\n",
    "# select this option to load version 1 (with a single agent) of the environment\n",
    "#env = UnityEnvironment(file_name='/data/Reacher_One_Linux_NoVis/Reacher_One_Linux_NoVis.x86_64')\n",
    "\n",
    "# select this option to load version 2 (with 20 agents) of the environment\n",
    "env = UnityEnvironment(file_name='/data/Reacher_Linux_NoVis/Reacher.x86_64')"
   ]
  },
  {
   "cell_type": "markdown",
   "metadata": {},
   "source": [
    "Environments contain **_brains_** which are responsible for deciding the actions of their associated agents. Here we check for the first brain available, and set it as the default brain we will be controlling from Python."
   ]
  },
  {
   "cell_type": "code",
   "execution_count": 3,
   "metadata": {},
   "outputs": [],
   "source": [
    "# get the default brain\n",
    "brain_name = env.brain_names[0]\n",
    "brain = env.brains[brain_name]"
   ]
  },
  {
   "cell_type": "markdown",
   "metadata": {},
   "source": [
    "### 2. Examine the State and Action Spaces\n",
    "\n",
    "Run the code cell below to print some information about the environment."
   ]
  },
  {
   "cell_type": "code",
   "execution_count": 4,
   "metadata": {},
   "outputs": [
    {
     "name": "stdout",
     "output_type": "stream",
     "text": [
      "Number of agents: 20\n",
      "Size of each action: 4\n",
      "There are 20 agents. Each observes a state with length: 33\n",
      "The state for the first agent looks like: [  0.00000000e+00  -4.00000000e+00   0.00000000e+00   1.00000000e+00\n",
      "  -0.00000000e+00  -0.00000000e+00  -4.37113883e-08   0.00000000e+00\n",
      "   0.00000000e+00   0.00000000e+00   0.00000000e+00   0.00000000e+00\n",
      "   0.00000000e+00   0.00000000e+00  -1.00000000e+01   0.00000000e+00\n",
      "   1.00000000e+00  -0.00000000e+00  -0.00000000e+00  -4.37113883e-08\n",
      "   0.00000000e+00   0.00000000e+00   0.00000000e+00   0.00000000e+00\n",
      "   0.00000000e+00   0.00000000e+00   5.75471878e+00  -1.00000000e+00\n",
      "   5.55726624e+00   0.00000000e+00   1.00000000e+00   0.00000000e+00\n",
      "  -1.68164849e-01]\n"
     ]
    }
   ],
   "source": [
    "# reset the environment\n",
    "env_info = env.reset(train_mode=True)[brain_name]\n",
    "\n",
    "# number of agents\n",
    "num_agents = len(env_info.agents)\n",
    "print('Number of agents:', num_agents)\n",
    "\n",
    "# size of each action\n",
    "action_size = brain.vector_action_space_size\n",
    "print('Size of each action:', action_size)\n",
    "\n",
    "# examine the state space \n",
    "states = env_info.vector_observations\n",
    "state_size = states.shape[1]\n",
    "print('There are {} agents. Each observes a state with length: {}'.format(states.shape[0], state_size))\n",
    "print('The state for the first agent looks like:', states[0])"
   ]
  },
  {
   "cell_type": "markdown",
   "metadata": {},
   "source": [
    "### 3. Take Random Actions in the Environment\n",
    "\n",
    "In the next code cell, you will learn how to use the Python API to control the agent and receive feedback from the environment.\n",
    "\n",
    "Note that **in this coding environment, you will not be able to watch the agents while they are training**, and you should set `train_mode=True` to restart the environment."
   ]
  },
  {
   "cell_type": "code",
   "execution_count": 5,
   "metadata": {},
   "outputs": [
    {
     "name": "stdout",
     "output_type": "stream",
     "text": [
      "Total score (averaged over agents) this episode: 0.14299999680370093\n"
     ]
    }
   ],
   "source": [
    "env_info = env.reset(train_mode=True)[brain_name]      # reset the environment    \n",
    "states = env_info.vector_observations                  # get the current state (for each agent)\n",
    "scores = np.zeros(num_agents)                          # initialize the score (for each agent)\n",
    "while True:\n",
    "    actions = np.random.randn(num_agents, action_size) # select an action (for each agent)\n",
    "    actions = np.clip(actions, -1, 1)                  # all actions between -1 and 1\n",
    "    env_info = env.step(actions)[brain_name]           # send all actions to tne environment\n",
    "    next_states = env_info.vector_observations         # get next state (for each agent)\n",
    "    rewards = env_info.rewards                         # get reward (for each agent)\n",
    "    dones = env_info.local_done                        # see if episode finished\n",
    "    scores += env_info.rewards                         # update the score (for each agent)\n",
    "    states = next_states                               # roll over states to next time step\n",
    "    if np.any(dones):                                  # exit loop if episode finished\n",
    "        break\n",
    "print('Total score (averaged over agents) this episode: {}'.format(np.mean(scores)))"
   ]
  },
  {
   "cell_type": "markdown",
   "metadata": {},
   "source": [
    "When finished, you can close the environment."
   ]
  },
  {
   "cell_type": "markdown",
   "metadata": {},
   "source": [
    "### 4. It's Your Turn!\n",
    "\n",
    "Now it's your turn to train your own agent to solve the environment!  A few **important notes**:\n",
    "- When training the environment, set `train_mode=True`, so that the line for resetting the environment looks like the following:\n",
    "```python\n",
    "env_info = env.reset(train_mode=True)[brain_name]\n",
    "```\n",
    "- To structure your work, you're welcome to work directly in this Jupyter notebook, or you might like to start over with a new file!  You can see the list of files in the workspace by clicking on **_Jupyter_** in the top left corner of the notebook.\n",
    "- In this coding environment, you will not be able to watch the agents while they are training.  However, **_after training the agents_**, you can download the saved model weights to watch the agents on your own machine! "
   ]
  },
  {
   "cell_type": "code",
   "execution_count": 6,
   "metadata": {},
   "outputs": [
    {
     "name": "stdout",
     "output_type": "stream",
     "text": [
      "/home/workspace/Reacher_ckpt_path/\n"
     ]
    }
   ],
   "source": [
    "import os\n",
    "current_path = os.getcwd()\n",
    "ckpt_path_folder = \"Reacher_ckpt_path\"\n",
    "ckpt_path_loc = (current_path+\"/\"+ckpt_path_folder+\"/\")\n",
    "print(ckpt_path_loc)"
   ]
  },
  {
   "cell_type": "code",
   "execution_count": 7,
   "metadata": {},
   "outputs": [],
   "source": [
    "import shutil\n",
    "if os.path.exists(ckpt_path_loc):\n",
    "    #shutil.rmtree(ckpt_path_loc, ignore_errors=True)\n",
    "    files = os.listdir(ckpt_path_loc)\n",
    "    files\n",
    "else:\n",
    "    print(\"The local file directory does not exist\")"
   ]
  },
  {
   "cell_type": "code",
   "execution_count": 8,
   "metadata": {},
   "outputs": [],
   "source": [
    "if not os.path.exists(ckpt_path_loc):\n",
    "    os.makedirs(ckpt_path_loc)"
   ]
  },
  {
   "cell_type": "code",
   "execution_count": 9,
   "metadata": {},
   "outputs": [
    {
     "data": {
      "text/plain": [
       "['Reacher_ckpt_path',\n",
       " 'python',\n",
       " 'unity-environment.log',\n",
       " 'model.py',\n",
       " 'Download_files.ipynb',\n",
       " 'ddpg_agent.py',\n",
       " 'Continuous_Control.ipynb',\n",
       " '.ipynb_checkpoints',\n",
       " '__pycache__']"
      ]
     },
     "execution_count": 9,
     "metadata": {},
     "output_type": "execute_result"
    }
   ],
   "source": [
    "files = os.listdir(current_path)\n",
    "files"
   ]
  },
  {
   "cell_type": "code",
   "execution_count": 10,
   "metadata": {},
   "outputs": [
    {
     "name": "stdout",
     "output_type": "stream",
     "text": [
      "Number of agents: 20\n",
      "Size of each action: 4\n"
     ]
    }
   ],
   "source": [
    "# number of agents\n",
    "num_agents = len(env_info.agents)\n",
    "print('Number of agents:', num_agents)\n",
    "\n",
    "# size of each action\n",
    "action_size = brain.vector_action_space_size\n",
    "print('Size of each action:', action_size)\n",
    "\n",
    "# examine the state space \n",
    "states = env_info.vector_observations\n",
    "state_size = states.shape[1]"
   ]
  },
  {
   "cell_type": "code",
   "execution_count": 11,
   "metadata": {},
   "outputs": [],
   "source": [
    "def ddpg(n_episodes=1000, max_t=1000,\n",
    "        actor_ckpt_path = 'Reacher_ckpt_path/checkpoint_actor.pth', \n",
    "        critic_ckpt_path = 'Reacher_ckpt_path/checkpoint_critic.pth'):\n",
    "    \"\"\"Deep Deterministic Policy Gradient (DDPG)\n",
    "    \n",
    "    Params\n",
    "    ======\n",
    "        n_episodes (int): maximum number of training episodes\n",
    "        max_t (int): maximum number of timesteps per episode\n",
    "    \"\"\"\n",
    "    mean_scores = []\n",
    "    moving_avg_scores = []             # list containing the averaged over all agents for 100 consecutive episodes\n",
    "    \n",
    "    scores_window = deque(maxlen=100)  # last 100 scores\n",
    "    start_time = time.time()\n",
    "    \n",
    "    for i_episode in range(1, n_episodes+1):\n",
    "        env_info = env.reset(train_mode=True)[brain_name]        # reset the environment\n",
    "        states = env_info.vector_observations                    # get the current state\n",
    "        scores = np.zeros(num_agents)                            # initialize score for each agent\n",
    "        agent.reset()\n",
    "        final_score = 0\n",
    "        timestep = time.time()\n",
    "        \n",
    "        for t in range(max_t):\n",
    "            actions = agent.act(states, add_noise=True)          # select an action\n",
    "            env_info = env.step(actions)[brain_name]             # send all actions to tne environment\n",
    "            next_states = env_info.vector_observations           # get next state (for each agent)\n",
    "            rewards = env_info.rewards                           # get reward (for each agent)\n",
    "            dones = env_info.local_done                          # see if episode finished\n",
    "            \n",
    "            agent.step(states, actions, rewards, next_states, dones, t)\n",
    "            states = next_states                                 # roll over the state to next time step\n",
    "            scores += rewards                                    # update the score\n",
    "            if np.any(dones):                                    # exit loop if episode finished\n",
    "                break \n",
    "        \n",
    "        duration = time.time() - timestep                        # calculate the elapsed time\n",
    "        \n",
    "        avg_scores_all_agent = np.mean(scores)\n",
    "        scores_window.append(avg_scores_all_agent)               # save average score for all agnets in the episode to the time window\n",
    "        final_score = np.mean(scores_window)\n",
    "        mean_scores.append(avg_scores_all_agent)\n",
    "        moving_avg_scores.append(final_score) \n",
    "        \n",
    "        print('\\rEpisode {} ({}s)\\tMin: {:.2f}\\tMax: {:.2f}\\tMean: {:.2f}'.format(\\\n",
    "                  i_episode, round(duration), np.min(scores), np.max(scores), np.mean(scores))) \n",
    "        if i_episode % 100 == 0:\n",
    "            print('\\rEpisode {} ({}min)\\tMoving Average Score (over time window): {:.2f}'.format(i_episode, round((time.time() - start_time)/60), final_score))\n",
    "        \n",
    "        if final_score>=30.0 and i_episode >= 100:\n",
    "            print('\\nEnvironment solved in {:d} episodes!\\tAverage Score: {:.2f}'.format(i_episode, final_score))\n",
    "\n",
    "            torch.save(agent.actor_local.state_dict(), actor_ckpt_path)\n",
    "            torch.save(agent.critic_local.state_dict(), critic_ckpt_path)\n",
    "            break\n",
    "    return mean_scores, moving_avg_scores"
   ]
  },
  {
   "cell_type": "code",
   "execution_count": 12,
   "metadata": {},
   "outputs": [],
   "source": [
    "import time\n",
    "start = time.time()\n",
    "# Set parameters for training\n",
    "seed = 123               # random seed number\n",
    "n_episodes_max = 1000     # number of training episodes\n",
    "max_t = 1000              # number of timesteps per episode\n",
    "\n",
    "actor_fc1_units = 128    # actor network hidden layer #1 number of unit \n",
    "actor_fc2_units = 128    # actor network hidden layer #2 number of unit \n",
    "critic_fcs1_units = 128  # critic network hidden layer #1 number of unit \n",
    "critic_fc2_units = 128   # critic network hidden layer #2 number of unit \n",
    "\n",
    "BUFFER_SIZE = int(1e6)        # replay buffer size\n",
    "BATCH_SIZE = 128              # minibatch size\n",
    "GAMMA = 0.99                  # discount factor\n",
    "TAU = 1e-3                    # for soft update of target parameters\n",
    "LR_ACTOR = 2e-4               # learning rate of the actor \n",
    "LR_CRITIC = 2e-4              # learning rate of the critic\n",
    "WEIGHT_DECAY = 0.00           # L2 weight decay\n",
    "OU_MU = 0.0                   # OUNoise mu\n",
    "OU_THETA = 0.15               # OUNoise theta\n",
    "OU_SIGMA = 0.18               # OUNoise sigma\n",
    "UPDATE_EVERY_T_STEPS = 20     # timesteps between updates\n",
    "NUM_OF_UPDATES = 10           # num of update passes when updating\n",
    "\n",
    "actor_ckpt_path = 'Reacher_ckpt_path/checkpoint_actor.pth'\n",
    "critic_ckpt_path = 'Reacher_ckpt_path/checkpoint_critic.pth'"
   ]
  },
  {
   "cell_type": "code",
   "execution_count": 13,
   "metadata": {},
   "outputs": [
    {
     "name": "stdout",
     "output_type": "stream",
     "text": [
      "[AGENT INFO] DDPG constructor initialized parameters:\n",
      " num_agents=20 \n",
      " state_size=33 \n",
      " action_size=4 \n",
      " random_seed=123 \n",
      " actor_fc1_units=128 \n",
      " actor_fc2_units=128 \n",
      " critic_fcs1_units=128 \n",
      " critic_fc2_units=128 \n",
      " buffer_size=1000000 \n",
      " batch_size=128 \n",
      " gamma=0.99 \n",
      " tau=0.001 \n",
      " lr_actor=0.0002 \n",
      " lr_critic=0.0002 \n",
      " weight_decay=0.0 \n",
      " ou_mu=0.0\n",
      " ou_theta=0.15\n",
      " ou_sigma=0.18\n",
      " update_every_t_steps=20\n",
      " num_of_updates=10\n",
      "\n",
      "[MODEL INFO] Actor initialized with parameters : state_size=33 action_size=4 seed=123 fc1_units=128 fc2_units=128\n",
      "[MODEL INFO] Actor initialized with parameters : state_size=33 action_size=4 seed=123 fc1_units=128 fc2_units=128\n",
      "[MODEL INFO] CRITIC initialized with parameters : state_size=33 action_size=4 seed=123 fcs1_units=128 fc2_units=128\n",
      "[MODEL INFO] CRITIC initialized with parameters : state_size=33 action_size=4 seed=123 fcs1_units=128 fc2_units=128\n"
     ]
    }
   ],
   "source": [
    "from ddpg_agent import Agent\n",
    "from collections import namedtuple, deque\n",
    "# Create the Agent\n",
    "agent = Agent(num_agents, state_size, action_size, random_seed=seed, \n",
    "              actor_fc1_units=actor_fc1_units, actor_fc2_units=actor_fc2_units, \n",
    "              critic_fcs1_units=critic_fcs1_units, critic_fc2_units=critic_fc2_units, \n",
    "              buffer_size=BUFFER_SIZE, batch_size=BATCH_SIZE, \n",
    "              gamma=GAMMA, tau=TAU, \n",
    "              lr_actor=LR_ACTOR, lr_critic=LR_CRITIC, weight_decay=WEIGHT_DECAY,\n",
    "              ou_mu=OU_MU, ou_theta=OU_THETA, ou_sigma=OU_SIGMA,\n",
    "              update_every_t_steps=UPDATE_EVERY_T_STEPS, num_of_updates=NUM_OF_UPDATES)"
   ]
  },
  {
   "cell_type": "code",
   "execution_count": 14,
   "metadata": {},
   "outputs": [
    {
     "name": "stdout",
     "output_type": "stream",
     "text": [
      "Episode 1 (11s)\tMin: 0.00\tMax: 0.30\tMean: 0.10\n",
      "Episode 2 (11s)\tMin: 0.00\tMax: 2.38\tMean: 0.29\n",
      "Episode 3 (11s)\tMin: 0.00\tMax: 1.37\tMean: 0.32\n",
      "Episode 4 (11s)\tMin: 0.00\tMax: 1.45\tMean: 0.46\n",
      "Episode 5 (11s)\tMin: 0.00\tMax: 0.46\tMean: 0.14\n",
      "Episode 6 (11s)\tMin: 0.00\tMax: 1.10\tMean: 0.31\n",
      "Episode 7 (11s)\tMin: 0.00\tMax: 0.57\tMean: 0.15\n",
      "Episode 8 (11s)\tMin: 0.00\tMax: 1.20\tMean: 0.17\n",
      "Episode 9 (11s)\tMin: 0.00\tMax: 1.74\tMean: 0.17\n",
      "Episode 10 (11s)\tMin: 0.00\tMax: 1.13\tMean: 0.23\n",
      "Episode 11 (11s)\tMin: 0.00\tMax: 0.86\tMean: 0.18\n",
      "Episode 12 (11s)\tMin: 0.00\tMax: 0.48\tMean: 0.15\n",
      "Episode 13 (11s)\tMin: 0.00\tMax: 0.43\tMean: 0.08\n",
      "Episode 14 (11s)\tMin: 0.00\tMax: 0.67\tMean: 0.12\n",
      "Episode 15 (11s)\tMin: 0.00\tMax: 1.31\tMean: 0.22\n",
      "Episode 16 (11s)\tMin: 0.00\tMax: 0.85\tMean: 0.20\n",
      "Episode 17 (12s)\tMin: 0.00\tMax: 1.04\tMean: 0.31\n",
      "Episode 18 (12s)\tMin: 0.00\tMax: 0.58\tMean: 0.10\n",
      "Episode 19 (12s)\tMin: 0.00\tMax: 0.57\tMean: 0.10\n",
      "Episode 20 (12s)\tMin: 0.00\tMax: 1.55\tMean: 0.27\n",
      "Episode 21 (12s)\tMin: 0.00\tMax: 0.85\tMean: 0.21\n",
      "Episode 22 (12s)\tMin: 0.00\tMax: 1.90\tMean: 0.33\n",
      "Episode 23 (12s)\tMin: 0.00\tMax: 0.96\tMean: 0.16\n",
      "Episode 24 (13s)\tMin: 0.07\tMax: 1.61\tMean: 0.55\n",
      "Episode 25 (13s)\tMin: 0.00\tMax: 1.20\tMean: 0.57\n",
      "Episode 26 (13s)\tMin: 0.00\tMax: 1.81\tMean: 0.77\n",
      "Episode 27 (13s)\tMin: 0.00\tMax: 1.71\tMean: 0.70\n",
      "Episode 28 (13s)\tMin: 0.00\tMax: 2.45\tMean: 1.04\n",
      "Episode 29 (13s)\tMin: 0.19\tMax: 2.32\tMean: 0.89\n",
      "Episode 30 (13s)\tMin: 0.23\tMax: 1.93\tMean: 0.81\n",
      "Episode 31 (13s)\tMin: 0.42\tMax: 3.28\tMean: 1.21\n",
      "Episode 32 (14s)\tMin: 0.13\tMax: 3.23\tMean: 1.32\n",
      "Episode 33 (13s)\tMin: 0.70\tMax: 2.78\tMean: 1.36\n",
      "Episode 34 (14s)\tMin: 0.09\tMax: 2.44\tMean: 1.27\n",
      "Episode 35 (14s)\tMin: 0.00\tMax: 2.76\tMean: 1.01\n",
      "Episode 36 (14s)\tMin: 0.14\tMax: 3.25\tMean: 1.30\n",
      "Episode 37 (14s)\tMin: 0.11\tMax: 3.41\tMean: 1.28\n",
      "Episode 38 (14s)\tMin: 0.54\tMax: 3.23\tMean: 1.53\n",
      "Episode 39 (14s)\tMin: 0.18\tMax: 2.13\tMean: 1.26\n",
      "Episode 40 (14s)\tMin: 0.50\tMax: 3.68\tMean: 1.76\n",
      "Episode 41 (15s)\tMin: 0.00\tMax: 3.24\tMean: 1.22\n",
      "Episode 42 (15s)\tMin: 0.91\tMax: 3.25\tMean: 1.77\n",
      "Episode 43 (15s)\tMin: 0.34\tMax: 3.46\tMean: 1.88\n",
      "Episode 44 (15s)\tMin: 0.37\tMax: 7.26\tMean: 2.63\n",
      "Episode 45 (15s)\tMin: 1.01\tMax: 4.86\tMean: 2.36\n",
      "Episode 46 (16s)\tMin: 0.13\tMax: 5.11\tMean: 2.38\n",
      "Episode 47 (15s)\tMin: 1.30\tMax: 5.08\tMean: 2.29\n",
      "Episode 48 (15s)\tMin: 0.09\tMax: 5.33\tMean: 2.46\n",
      "Episode 49 (16s)\tMin: 1.06\tMax: 4.40\tMean: 2.74\n",
      "Episode 50 (16s)\tMin: 0.96\tMax: 6.30\tMean: 2.60\n",
      "Episode 51 (16s)\tMin: 1.45\tMax: 8.56\tMean: 2.85\n",
      "Episode 52 (16s)\tMin: 0.38\tMax: 4.80\tMean: 2.78\n",
      "Episode 53 (16s)\tMin: 0.78\tMax: 5.07\tMean: 2.63\n",
      "Episode 54 (16s)\tMin: 0.62\tMax: 5.02\tMean: 2.64\n",
      "Episode 55 (16s)\tMin: 0.52\tMax: 4.49\tMean: 2.94\n",
      "Episode 56 (16s)\tMin: 0.92\tMax: 5.28\tMean: 3.02\n",
      "Episode 57 (16s)\tMin: 1.76\tMax: 7.93\tMean: 3.71\n",
      "Episode 58 (16s)\tMin: 0.91\tMax: 5.59\tMean: 3.24\n",
      "Episode 59 (16s)\tMin: 2.18\tMax: 9.18\tMean: 4.30\n",
      "Episode 60 (16s)\tMin: 1.25\tMax: 9.03\tMean: 4.54\n",
      "Episode 61 (16s)\tMin: 2.03\tMax: 5.56\tMean: 3.94\n",
      "Episode 62 (16s)\tMin: 0.43\tMax: 8.68\tMean: 3.62\n",
      "Episode 63 (16s)\tMin: 1.29\tMax: 7.70\tMean: 4.20\n",
      "Episode 64 (16s)\tMin: 2.85\tMax: 11.45\tMean: 4.95\n",
      "Episode 65 (16s)\tMin: 2.78\tMax: 7.78\tMean: 4.87\n",
      "Episode 66 (16s)\tMin: 2.38\tMax: 8.17\tMean: 4.75\n",
      "Episode 67 (16s)\tMin: 2.69\tMax: 6.33\tMean: 4.25\n",
      "Episode 68 (16s)\tMin: 0.43\tMax: 9.21\tMean: 5.13\n",
      "Episode 69 (16s)\tMin: 2.84\tMax: 8.67\tMean: 4.89\n",
      "Episode 70 (16s)\tMin: 0.70\tMax: 11.35\tMean: 4.73\n",
      "Episode 71 (16s)\tMin: 0.67\tMax: 12.81\tMean: 6.07\n",
      "Episode 72 (16s)\tMin: 3.77\tMax: 14.32\tMean: 6.35\n",
      "Episode 73 (16s)\tMin: 2.85\tMax: 8.81\tMean: 5.25\n",
      "Episode 74 (16s)\tMin: 4.18\tMax: 10.13\tMean: 6.00\n",
      "Episode 75 (16s)\tMin: 3.25\tMax: 8.15\tMean: 5.89\n",
      "Episode 76 (15s)\tMin: 0.25\tMax: 13.92\tMean: 6.71\n",
      "Episode 77 (16s)\tMin: 1.97\tMax: 19.81\tMean: 6.08\n",
      "Episode 78 (16s)\tMin: 3.62\tMax: 10.38\tMean: 6.49\n",
      "Episode 79 (16s)\tMin: 1.91\tMax: 8.37\tMean: 6.11\n",
      "Episode 80 (16s)\tMin: 1.56\tMax: 9.49\tMean: 5.48\n",
      "Episode 81 (16s)\tMin: 3.54\tMax: 10.41\tMean: 6.92\n",
      "Episode 82 (16s)\tMin: 1.12\tMax: 12.24\tMean: 5.66\n",
      "Episode 83 (16s)\tMin: 3.69\tMax: 9.18\tMean: 6.02\n",
      "Episode 84 (16s)\tMin: 0.74\tMax: 9.84\tMean: 5.77\n",
      "Episode 85 (16s)\tMin: 3.78\tMax: 10.73\tMean: 7.02\n",
      "Episode 86 (16s)\tMin: 2.04\tMax: 13.86\tMean: 7.32\n",
      "Episode 87 (16s)\tMin: 3.91\tMax: 10.47\tMean: 7.14\n",
      "Episode 88 (16s)\tMin: 1.90\tMax: 11.37\tMean: 7.30\n",
      "Episode 89 (16s)\tMin: 2.65\tMax: 13.61\tMean: 6.50\n",
      "Episode 90 (16s)\tMin: 4.14\tMax: 11.65\tMean: 7.13\n",
      "Episode 91 (15s)\tMin: 0.15\tMax: 11.80\tMean: 7.53\n",
      "Episode 92 (16s)\tMin: 0.08\tMax: 27.85\tMean: 7.94\n",
      "Episode 93 (16s)\tMin: 3.62\tMax: 11.75\tMean: 6.81\n",
      "Episode 94 (16s)\tMin: 0.54\tMax: 11.10\tMean: 7.35\n",
      "Episode 95 (16s)\tMin: 2.82\tMax: 14.69\tMean: 7.03\n",
      "Episode 96 (16s)\tMin: 3.14\tMax: 11.31\tMean: 6.78\n",
      "Episode 97 (16s)\tMin: 4.39\tMax: 13.03\tMean: 7.15\n",
      "Episode 98 (16s)\tMin: 3.70\tMax: 13.64\tMean: 7.52\n",
      "Episode 99 (16s)\tMin: 2.64\tMax: 10.35\tMean: 7.54\n",
      "Episode 100 (16s)\tMin: 4.91\tMax: 12.29\tMean: 7.68\n",
      "Episode 100 (24min)\tMoving Average Score (over time window): 3.24\n",
      "Episode 101 (16s)\tMin: 2.29\tMax: 21.09\tMean: 8.82\n",
      "Episode 102 (16s)\tMin: 5.46\tMax: 25.01\tMean: 10.05\n",
      "Episode 103 (16s)\tMin: 3.46\tMax: 12.20\tMean: 7.84\n",
      "Episode 104 (16s)\tMin: 5.06\tMax: 12.67\tMean: 8.46\n",
      "Episode 105 (16s)\tMin: 5.47\tMax: 24.76\tMean: 9.07\n",
      "Episode 106 (16s)\tMin: 4.63\tMax: 16.67\tMean: 8.69\n",
      "Episode 107 (16s)\tMin: 5.15\tMax: 13.93\tMean: 7.86\n",
      "Episode 108 (16s)\tMin: 6.31\tMax: 13.58\tMean: 9.79\n",
      "Episode 109 (16s)\tMin: 6.93\tMax: 13.73\tMean: 9.98\n",
      "Episode 110 (16s)\tMin: 4.72\tMax: 12.84\tMean: 8.74\n",
      "Episode 111 (16s)\tMin: 6.82\tMax: 11.41\tMean: 9.18\n",
      "Episode 112 (16s)\tMin: 7.60\tMax: 22.15\tMean: 12.70\n",
      "Episode 113 (16s)\tMin: 6.42\tMax: 12.70\tMean: 9.58\n",
      "Episode 114 (16s)\tMin: 2.58\tMax: 13.26\tMean: 9.35\n",
      "Episode 115 (16s)\tMin: 7.69\tMax: 32.77\tMean: 11.62\n",
      "Episode 116 (16s)\tMin: 0.58\tMax: 20.65\tMean: 10.53\n",
      "Episode 117 (16s)\tMin: 7.11\tMax: 15.52\tMean: 11.25\n",
      "Episode 118 (16s)\tMin: 1.04\tMax: 25.21\tMean: 10.63\n",
      "Episode 119 (16s)\tMin: 9.17\tMax: 15.98\tMean: 11.48\n",
      "Episode 120 (16s)\tMin: 7.25\tMax: 15.51\tMean: 11.35\n",
      "Episode 121 (16s)\tMin: 2.26\tMax: 15.61\tMean: 12.02\n",
      "Episode 122 (16s)\tMin: 8.68\tMax: 14.95\tMean: 12.36\n",
      "Episode 123 (16s)\tMin: 6.63\tMax: 15.73\tMean: 11.63\n",
      "Episode 124 (16s)\tMin: 5.39\tMax: 16.58\tMean: 11.97\n",
      "Episode 125 (16s)\tMin: 1.19\tMax: 17.66\tMean: 10.54\n",
      "Episode 126 (16s)\tMin: 5.09\tMax: 16.92\tMean: 11.08\n",
      "Episode 127 (16s)\tMin: 2.27\tMax: 16.69\tMean: 10.35\n",
      "Episode 128 (16s)\tMin: 6.20\tMax: 14.73\tMean: 10.94\n",
      "Episode 129 (16s)\tMin: 7.88\tMax: 17.31\tMean: 11.78\n",
      "Episode 130 (16s)\tMin: 7.27\tMax: 16.15\tMean: 12.07\n",
      "Episode 131 (16s)\tMin: 1.03\tMax: 17.36\tMean: 12.72\n",
      "Episode 132 (16s)\tMin: 2.09\tMax: 18.65\tMean: 12.52\n",
      "Episode 133 (16s)\tMin: 6.62\tMax: 15.32\tMean: 11.84\n",
      "Episode 134 (16s)\tMin: 8.67\tMax: 17.06\tMean: 13.70\n",
      "Episode 135 (16s)\tMin: 2.89\tMax: 26.51\tMean: 12.58\n",
      "Episode 136 (16s)\tMin: 8.75\tMax: 19.95\tMean: 13.50\n",
      "Episode 137 (16s)\tMin: 8.93\tMax: 18.54\tMean: 14.11\n",
      "Episode 138 (16s)\tMin: 6.70\tMax: 16.77\tMean: 13.73\n",
      "Episode 139 (16s)\tMin: 9.91\tMax: 22.39\tMean: 13.25\n",
      "Episode 140 (16s)\tMin: 9.48\tMax: 20.05\tMean: 14.30\n",
      "Episode 141 (16s)\tMin: 6.82\tMax: 16.39\tMean: 12.66\n",
      "Episode 142 (16s)\tMin: 7.36\tMax: 18.06\tMean: 13.85\n",
      "Episode 143 (16s)\tMin: 10.87\tMax: 17.97\tMean: 14.59\n",
      "Episode 144 (16s)\tMin: 7.45\tMax: 18.45\tMean: 13.87\n",
      "Episode 145 (16s)\tMin: 12.62\tMax: 22.96\tMean: 16.08\n",
      "Episode 146 (16s)\tMin: 11.05\tMax: 22.05\tMean: 14.20\n",
      "Episode 147 (16s)\tMin: 12.38\tMax: 18.63\tMean: 15.07\n",
      "Episode 148 (16s)\tMin: 11.76\tMax: 24.61\tMean: 15.38\n",
      "Episode 149 (16s)\tMin: 11.28\tMax: 18.89\tMean: 14.47\n",
      "Episode 150 (16s)\tMin: 10.30\tMax: 27.60\tMean: 16.58\n",
      "Episode 151 (16s)\tMin: 7.47\tMax: 22.70\tMean: 14.85\n",
      "Episode 152 (15s)\tMin: 9.10\tMax: 18.36\tMean: 14.79\n",
      "Episode 153 (16s)\tMin: 6.89\tMax: 24.35\tMean: 15.41\n",
      "Episode 154 (16s)\tMin: 1.29\tMax: 19.20\tMean: 14.49\n",
      "Episode 155 (16s)\tMin: 7.82\tMax: 21.49\tMean: 17.24\n",
      "Episode 156 (16s)\tMin: 13.94\tMax: 19.63\tMean: 16.30\n",
      "Episode 157 (15s)\tMin: 11.26\tMax: 20.65\tMean: 16.85\n",
      "Episode 158 (16s)\tMin: 4.90\tMax: 22.44\tMean: 15.98\n",
      "Episode 159 (16s)\tMin: 14.26\tMax: 20.07\tMean: 17.43\n",
      "Episode 160 (16s)\tMin: 12.71\tMax: 22.05\tMean: 16.52\n",
      "Episode 161 (16s)\tMin: 7.28\tMax: 19.80\tMean: 14.83\n",
      "Episode 162 (16s)\tMin: 13.69\tMax: 21.12\tMean: 17.90\n",
      "Episode 163 (16s)\tMin: 6.34\tMax: 20.13\tMean: 15.72\n",
      "Episode 164 (16s)\tMin: 10.51\tMax: 26.13\tMean: 19.21\n",
      "Episode 165 (16s)\tMin: 8.24\tMax: 21.08\tMean: 16.07\n"
     ]
    },
    {
     "name": "stdout",
     "output_type": "stream",
     "text": [
      "Episode 166 (16s)\tMin: 5.54\tMax: 26.31\tMean: 18.84\n",
      "Episode 167 (16s)\tMin: 15.92\tMax: 29.91\tMean: 20.73\n",
      "Episode 168 (16s)\tMin: 12.75\tMax: 24.83\tMean: 18.64\n",
      "Episode 169 (16s)\tMin: 14.86\tMax: 30.21\tMean: 20.23\n",
      "Episode 170 (16s)\tMin: 15.75\tMax: 26.60\tMean: 20.10\n",
      "Episode 171 (16s)\tMin: 9.76\tMax: 22.94\tMean: 19.77\n",
      "Episode 172 (16s)\tMin: 15.77\tMax: 29.92\tMean: 21.54\n",
      "Episode 173 (16s)\tMin: 0.56\tMax: 24.60\tMean: 18.73\n",
      "Episode 174 (16s)\tMin: 12.08\tMax: 26.26\tMean: 20.88\n",
      "Episode 175 (16s)\tMin: 14.36\tMax: 26.51\tMean: 21.11\n",
      "Episode 176 (16s)\tMin: 16.66\tMax: 26.79\tMean: 21.61\n",
      "Episode 177 (16s)\tMin: 17.66\tMax: 27.32\tMean: 22.75\n",
      "Episode 178 (16s)\tMin: 16.33\tMax: 30.68\tMean: 23.63\n",
      "Episode 179 (16s)\tMin: 14.90\tMax: 28.75\tMean: 22.08\n",
      "Episode 180 (16s)\tMin: 15.07\tMax: 35.93\tMean: 23.13\n",
      "Episode 181 (16s)\tMin: 17.88\tMax: 29.91\tMean: 23.02\n",
      "Episode 182 (16s)\tMin: 16.33\tMax: 33.49\tMean: 23.43\n",
      "Episode 183 (16s)\tMin: 19.28\tMax: 27.14\tMean: 23.11\n",
      "Episode 184 (15s)\tMin: 13.13\tMax: 25.88\tMean: 21.91\n",
      "Episode 185 (16s)\tMin: 6.74\tMax: 30.08\tMean: 21.79\n",
      "Episode 186 (16s)\tMin: 18.85\tMax: 25.33\tMean: 21.84\n",
      "Episode 187 (15s)\tMin: 17.57\tMax: 28.31\tMean: 21.73\n",
      "Episode 188 (16s)\tMin: 18.60\tMax: 28.50\tMean: 23.33\n",
      "Episode 189 (16s)\tMin: 17.87\tMax: 28.89\tMean: 22.77\n",
      "Episode 190 (16s)\tMin: 17.91\tMax: 32.31\tMean: 23.17\n",
      "Episode 191 (16s)\tMin: 21.15\tMax: 36.80\tMean: 25.23\n",
      "Episode 192 (16s)\tMin: 15.61\tMax: 38.46\tMean: 24.27\n",
      "Episode 193 (16s)\tMin: 19.92\tMax: 35.57\tMean: 26.98\n",
      "Episode 194 (16s)\tMin: 19.87\tMax: 36.69\tMean: 29.38\n",
      "Episode 195 (16s)\tMin: 19.24\tMax: 38.06\tMean: 28.82\n",
      "Episode 196 (16s)\tMin: 21.48\tMax: 39.48\tMean: 30.00\n",
      "Episode 197 (16s)\tMin: 19.31\tMax: 37.13\tMean: 28.55\n",
      "Episode 198 (16s)\tMin: 19.77\tMax: 38.99\tMean: 29.39\n",
      "Episode 199 (16s)\tMin: 22.93\tMax: 38.24\tMean: 30.23\n",
      "Episode 200 (16s)\tMin: 18.59\tMax: 38.81\tMean: 31.80\n",
      "Episode 200 (50min)\tMoving Average Score (over time window): 16.59\n",
      "Episode 201 (16s)\tMin: 17.21\tMax: 37.33\tMean: 30.87\n",
      "Episode 202 (16s)\tMin: 19.89\tMax: 39.13\tMean: 31.90\n",
      "Episode 203 (16s)\tMin: 23.55\tMax: 38.87\tMean: 31.78\n",
      "Episode 204 (16s)\tMin: 20.52\tMax: 38.03\tMean: 30.60\n",
      "Episode 205 (16s)\tMin: 17.82\tMax: 39.66\tMean: 31.23\n",
      "Episode 206 (16s)\tMin: 22.27\tMax: 38.89\tMean: 33.18\n",
      "Episode 207 (16s)\tMin: 15.11\tMax: 37.26\tMean: 31.35\n",
      "Episode 208 (16s)\tMin: 21.69\tMax: 38.21\tMean: 31.84\n",
      "Episode 209 (16s)\tMin: 20.31\tMax: 39.17\tMean: 32.58\n",
      "Episode 210 (16s)\tMin: 26.13\tMax: 37.83\tMean: 33.09\n",
      "Episode 211 (16s)\tMin: 20.38\tMax: 37.63\tMean: 31.38\n",
      "Episode 212 (16s)\tMin: 22.00\tMax: 39.10\tMean: 32.73\n",
      "Episode 213 (16s)\tMin: 27.11\tMax: 39.32\tMean: 33.54\n",
      "Episode 214 (16s)\tMin: 24.81\tMax: 39.49\tMean: 34.28\n",
      "Episode 215 (16s)\tMin: 25.41\tMax: 37.99\tMean: 32.45\n",
      "Episode 216 (16s)\tMin: 27.12\tMax: 38.99\tMean: 34.84\n",
      "Episode 217 (15s)\tMin: 28.37\tMax: 39.65\tMean: 35.12\n",
      "Episode 218 (16s)\tMin: 28.36\tMax: 37.49\tMean: 33.04\n",
      "Episode 219 (16s)\tMin: 28.54\tMax: 38.28\tMean: 33.95\n",
      "Episode 220 (16s)\tMin: 24.80\tMax: 38.56\tMean: 31.12\n",
      "Episode 221 (16s)\tMin: 28.07\tMax: 37.44\tMean: 32.77\n",
      "Episode 222 (16s)\tMin: 26.43\tMax: 37.52\tMean: 34.34\n",
      "Episode 223 (16s)\tMin: 25.27\tMax: 38.86\tMean: 35.07\n",
      "Episode 224 (16s)\tMin: 27.94\tMax: 36.65\tMean: 32.94\n",
      "Episode 225 (16s)\tMin: 25.79\tMax: 38.60\tMean: 33.98\n",
      "Episode 226 (16s)\tMin: 15.42\tMax: 38.64\tMean: 34.57\n",
      "Episode 227 (16s)\tMin: 28.85\tMax: 38.13\tMean: 34.53\n",
      "Episode 228 (16s)\tMin: 30.89\tMax: 37.87\tMean: 35.82\n",
      "Episode 229 (16s)\tMin: 27.56\tMax: 39.33\tMean: 34.37\n",
      "Episode 230 (16s)\tMin: 29.25\tMax: 39.37\tMean: 36.69\n",
      "Episode 231 (16s)\tMin: 35.12\tMax: 39.52\tMean: 37.07\n",
      "Episode 232 (16s)\tMin: 29.17\tMax: 39.28\tMean: 36.59\n",
      "Episode 233 (16s)\tMin: 1.78\tMax: 38.37\tMean: 32.67\n",
      "Episode 234 (16s)\tMin: 23.91\tMax: 39.32\tMean: 34.20\n",
      "Episode 235 (16s)\tMin: 27.01\tMax: 38.11\tMean: 34.63\n",
      "Episode 236 (16s)\tMin: 28.57\tMax: 39.30\tMean: 34.96\n",
      "Episode 237 (16s)\tMin: 24.01\tMax: 35.68\tMean: 31.91\n",
      "Episode 238 (16s)\tMin: 23.39\tMax: 37.19\tMean: 30.98\n",
      "Episode 239 (16s)\tMin: 24.31\tMax: 36.29\tMean: 31.95\n",
      "Episode 240 (16s)\tMin: 27.50\tMax: 39.08\tMean: 32.92\n",
      "Episode 241 (16s)\tMin: 14.06\tMax: 35.59\tMean: 31.05\n",
      "Episode 242 (16s)\tMin: 25.90\tMax: 38.59\tMean: 32.73\n",
      "Episode 243 (16s)\tMin: 27.44\tMax: 36.51\tMean: 32.87\n",
      "Episode 244 (16s)\tMin: 29.77\tMax: 37.40\tMean: 32.94\n",
      "Episode 245 (16s)\tMin: 15.52\tMax: 33.93\tMean: 29.21\n",
      "Episode 246 (16s)\tMin: 21.91\tMax: 35.91\tMean: 29.64\n",
      "Episode 247 (16s)\tMin: 20.41\tMax: 36.04\tMean: 30.98\n",
      "Episode 248 (16s)\tMin: 20.39\tMax: 36.70\tMean: 29.24\n",
      "Episode 249 (16s)\tMin: 24.46\tMax: 36.69\tMean: 30.17\n",
      "Episode 250 (16s)\tMin: 25.26\tMax: 35.58\tMean: 30.95\n",
      "Episode 251 (16s)\tMin: 23.98\tMax: 36.52\tMean: 30.57\n",
      "Episode 252 (16s)\tMin: 21.74\tMax: 36.39\tMean: 30.08\n",
      "Episode 253 (16s)\tMin: 20.43\tMax: 35.52\tMean: 31.47\n",
      "Episode 254 (16s)\tMin: 25.21\tMax: 35.96\tMean: 31.66\n",
      "Episode 255 (16s)\tMin: 19.46\tMax: 35.61\tMean: 29.13\n",
      "Episode 256 (16s)\tMin: 26.38\tMax: 35.90\tMean: 31.70\n",
      "Episode 257 (16s)\tMin: 21.38\tMax: 35.13\tMean: 30.86\n",
      "Episode 258 (16s)\tMin: 23.69\tMax: 38.71\tMean: 31.74\n",
      "Episode 259 (16s)\tMin: 21.49\tMax: 31.80\tMean: 27.32\n",
      "Episode 260 (16s)\tMin: 20.30\tMax: 35.33\tMean: 29.60\n",
      "Episode 261 (16s)\tMin: 19.91\tMax: 37.38\tMean: 31.27\n",
      "Episode 262 (16s)\tMin: 24.08\tMax: 35.65\tMean: 30.64\n",
      "Episode 263 (16s)\tMin: 22.96\tMax: 35.33\tMean: 29.24\n",
      "Episode 264 (16s)\tMin: 27.53\tMax: 37.44\tMean: 31.88\n",
      "Episode 265 (16s)\tMin: 20.94\tMax: 36.55\tMean: 29.66\n",
      "Episode 266 (16s)\tMin: 24.60\tMax: 39.61\tMean: 29.59\n",
      "Episode 267 (16s)\tMin: 21.83\tMax: 36.24\tMean: 30.67\n",
      "Episode 268 (16s)\tMin: 22.55\tMax: 33.85\tMean: 29.41\n",
      "Episode 269 (16s)\tMin: 27.12\tMax: 34.09\tMean: 30.29\n",
      "Episode 270 (16s)\tMin: 22.84\tMax: 31.37\tMean: 27.69\n",
      "Episode 271 (16s)\tMin: 28.51\tMax: 37.01\tMean: 32.16\n",
      "Episode 272 (16s)\tMin: 27.83\tMax: 39.30\tMean: 32.60\n",
      "Episode 273 (16s)\tMin: 25.09\tMax: 39.44\tMean: 32.63\n",
      "\n",
      "Environment solved in 273 episodes!\tAverage Score: 30.11\n"
     ]
    }
   ],
   "source": [
    "# Train the Agent\n",
    "scores, avgs = ddpg(n_episodes=n_episodes_max, \n",
    "                    max_t= max_t,\n",
    "                    actor_ckpt_path=actor_ckpt_path,\n",
    "                    critic_ckpt_path=critic_ckpt_path)"
   ]
  },
  {
   "cell_type": "code",
   "execution_count": 15,
   "metadata": {},
   "outputs": [
    {
     "name": "stdout",
     "output_type": "stream",
     "text": [
      "\n",
      "Elapsed Time: 69.20 mins.\n"
     ]
    }
   ],
   "source": [
    "end = time.time()\n",
    "elapsed = (end - start) / 60.0 # in minutes\n",
    "print(\"\\nElapsed Time: {0:3.2f} mins.\".format(elapsed))"
   ]
  },
  {
   "cell_type": "code",
   "execution_count": 17,
   "metadata": {},
   "outputs": [
    {
     "data": {
      "image/png": "[encoded data removed]",
      "text/plain": [
       "<matplotlib.figure.Figure at 0x7f454ab4b978>"
      ]
     },
     "metadata": {
      "needs_background": "light"
     },
     "output_type": "display_data"
    }
   ],
   "source": [
    "import matplotlib.pyplot as plt\n",
    "%matplotlib inline\n",
    "# plot the scores\n",
    "fig = plt.figure()\n",
    "ax = fig.add_subplot(111)\n",
    "plt.plot(np.arange(len(scores)), scores, label='scores')\n",
    "plt.plot(np.arange(len(scores)), avgs, c='r', label='Average Score')\n",
    "plt.ylabel('Score')\n",
    "plt.xlabel('Episode #')\n",
    "plt.legend();\n",
    "plt.show()"
   ]
  },
  {
   "cell_type": "code",
   "execution_count": 18,
   "metadata": {},
   "outputs": [
    {
     "name": "stdout",
     "output_type": "stream",
     "text": [
      "Total score (averaged over agents) this episode: 31.285499300714584\n"
     ]
    }
   ],
   "source": [
    "agent.actor_local.load_state_dict(torch.load(actor_ckpt_path))\n",
    "agent.critic_local.load_state_dict(torch.load(critic_ckpt_path))\n",
    "\n",
    "env_info = env.reset(train_mode=False)[brain_name]     # reset the environment    \n",
    "states = env_info.vector_observations                  # get the current state (for each agent)\n",
    "scores = np.zeros(num_agents)                          # initialize the score (for each agent)\n",
    "while True:\n",
    "    actions = agent.act(states)                        # select an action (for each agent)\n",
    "    env_info = env.step(actions)[brain_name]           # send all actions to tne environment\n",
    "    next_states = env_info.vector_observations         # get next state (for each agent)\n",
    "    rewards = env_info.rewards                         # get reward (for each agent)\n",
    "    dones = env_info.local_done                        # see if episode finished\n",
    "    scores += env_info.rewards                         # update the score (for each agent)\n",
    "    states = next_states                               # roll over states to next time step\n",
    "    if np.any(dones):                                  # exit loop if episode finished\n",
    "        break\n",
    "print('Total score (averaged over agents) this episode: {}'.format(np.mean(scores)))"
   ]
  },
  {
   "cell_type": "code",
   "execution_count": 19,
   "metadata": {},
   "outputs": [],
   "source": [
    "env.close()"
   ]
  }
 ],
 "metadata": {
  "kernelspec": {
   "display_name": "Python 3",
   "language": "python",
   "name": "python3"
  },
  "language_info": {
   "codemirror_mode": {
    "name": "ipython",
    "version": 3
   },
   "file_extension": ".py",
   "mimetype": "text/x-python",
   "name": "python",
   "nbconvert_exporter": "python",
   "pygments_lexer": "ipython3",
   "version": "3.6.10"
  }
 },
 "nbformat": 4,
 "nbformat_minor": 2
}
